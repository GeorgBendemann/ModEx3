{
 "cells": [
  {
   "cell_type": "markdown",
   "metadata": {},
   "source": [
    "---\n",
    "# Exercises for Modern Experimental Physics III\n",
    "## Exercise 2: Detector simulation - Bonus\n",
    "---"
   ]
  },
  {
   "cell_type": "markdown",
   "metadata": {},
   "source": [
    "[Exercise 4](#Exercise4) repeats the methods from the first exercise for different particle types.\n",
    "Finally, [Exercise 5](#Exercise5) discusses and determines the energy resolution in calorimeters."
   ]
  },
  {
   "cell_type": "markdown",
   "metadata": {},
   "source": [
    "---\n",
    "# Exercise 4: Calorimeter response to different particle types <a id=\"Exercise4\"></a>\n",
    "---\n",
    "\n",
    "In this exercise, investigate the response of our sampling calorimeter to different types of particles.\n",
    "\n",
    "Write a module that repeats the previous exercise as follows:\n",
    "- Set the particle type.\n",
    "- Define the desired energies. Here, choose 10 different steps  in the interval of $[1, 10]\\,$GeV.\n",
    "- Loop over 100 samples.\n",
    "- Store the mean number of charged tracks per event and its uncertainty.\n",
    "- Fit the mean number of charged tracks.\n",
    "\n",
    "Study the detector response for electrons (PDG code 11), photons (PDG code 22) and charged pions (PDG code 211).\n",
    "To contain the full pion shower, increase the number of sampling layers to 50."
   ]
  },
  {
   "cell_type": "code",
   "execution_count": null,
   "metadata": {},
   "outputs": [],
   "source": [
    "import geant4_simulation as g4sim\n",
    "import numpy as np\n",
    "import matplotlib.pyplot as plt\n",
    "from kafe2 import XYContainer, Fit, Plot\n",
    "\n",
    "# Initialize the simulation.\n",
    "g4 = g4sim.ApplicationManager()\n",
    "g4.set_geometry('samplingcalo(2.,1.,15)')\n",
    "g4.set_physics_list('MyQGSP_BERT')\n",
    "g4.initialize()"
   ]
  },
  {
   "cell_type": "markdown",
   "metadata": {},
   "source": [
    "<div class=\"alert alert-info\">\n",
    "<strong>Question 2.1:</strong> \n",
    "Do you see any differences between electron and photon induced showers? Why?\n",
    "</div>"
   ]
  },
  {
   "cell_type": "markdown",
   "metadata": {},
   "source": [
    "<div class=\"alert alert-success\">\n",
    "<strong>Answer 2.1:</strong> \n",
    "\n",
    "*Your answer...*\n",
    "</div>"
   ]
  },
  {
   "cell_type": "markdown",
   "metadata": {
    "tags": []
   },
   "source": [
    "<div class=\"alert alert-info\">\n",
    "<strong>Question 2.2:</strong> \n",
    "Do you see any differences between charged pion and photon induced showers? Why?\n",
    "</div>"
   ]
  },
  {
   "cell_type": "markdown",
   "metadata": {},
   "source": [
    "<div class=\"alert alert-success\">\n",
    "<strong>Answer 2.2:</strong> \n",
    "\n",
    "*Your answer...*\n",
    "</div>"
   ]
  },
  {
   "cell_type": "code",
   "execution_count": null,
   "metadata": {},
   "outputs": [],
   "source": [
    "# Your code ...\n"
   ]
  },
  {
   "cell_type": "markdown",
   "metadata": {},
   "source": [
    "---\n",
    "# Exercise 5: Calorimeter resolution <a id=\"Exercise5\"></a>\n",
    "---\n",
    "\n",
    "In this exercise, we want to determine the stochastic factor $a$ of the energy resolution $\\frac{\\sigma(E)}{E}$ of the calorimeter for photons as a function of the photon energy $E_{\\text{in}}$."
   ]
  },
  {
   "cell_type": "markdown",
   "metadata": {},
   "source": [
    "<div class=\"alert alert-info\">\n",
    "<strong>Question 3.1:</strong> \n",
    "    \n",
    "* Why do we only care about the stochastic contribution here?\n",
    "* How does the resolution depend on the energy $E_{\\text{in}}$?\n",
    "</div>"
   ]
  },
  {
   "cell_type": "markdown",
   "metadata": {},
   "source": [
    "<div class=\"alert alert-success\">\n",
    "<strong>Answer 3.1:</strong> \n",
    "    \n",
    "*Your answer...*\n",
    "</div>"
   ]
  },
  {
   "cell_type": "markdown",
   "metadata": {},
   "source": [
    "To compute the energy deviation $\\sigma(E)$, simulate for 20 different energies in the interval of $[1, 10]\\,$GeV the interaction of 100 photons.\n",
    "Use a liquid argon sampling calorimeter (15 layers) from the [third exercise](#Exercise3).\n",
    "For each event, calculate the responding energy by calculating the number of charged tracks $N_c$ and apply the previously computed calibration.\n",
    "Store the deviation of the response energy $\\sigma(E)$ as the standard deviation over all samples. \n",
    "The uncertainty for $\\sigma(E)$ can be calculated as $\\frac{\\sigma(E)}{\\sqrt{N_\\text{Sample}-1}}$.\n",
    "Finally, fit $\\frac{\\sigma(E)}{E}$ with an appropriate model and determine the stochastic factor $a$."
   ]
  },
  {
   "cell_type": "markdown",
   "metadata": {},
   "source": [
    "<div class=\"alert alert-info\">\n",
    "<strong>Question 3.2:</strong> \n",
    "Does the result fulfil the expectation?\n",
    "</div>"
   ]
  },
  {
   "cell_type": "markdown",
   "metadata": {},
   "source": [
    "<div class=\"alert alert-success\">\n",
    "<strong>Answer 3.2:</strong> \n",
    "\n",
    "*Your answer...*\n",
    "</div>"
   ]
  },
  {
   "cell_type": "code",
   "execution_count": null,
   "metadata": {},
   "outputs": [],
   "source": [
    "# Your code ...\n"
   ]
  },
  {
   "cell_type": "markdown",
   "metadata": {},
   "source": [
    "<div class=\"alert alert-info\">\n",
    "<strong>Bonus question:</strong> \n",
    "How does the energy resolution of a sampling calorimeter depend on the thickness of the absorber layers?\n",
    "</div>"
   ]
  },
  {
   "cell_type": "markdown",
   "metadata": {},
   "source": [
    "<div class=\"alert alert-success\">\n",
    "<strong>Answer Bonus:</strong> \n",
    "\n",
    "*Your answer...*\n",
    "</div>"
   ]
  },
  {
   "cell_type": "code",
   "execution_count": null,
   "metadata": {
    "tags": []
   },
   "outputs": [],
   "source": [
    "# Your code ...\n",
    "\n"
   ]
  }
 ],
 "metadata": {
  "kernelspec": {
   "display_name": "Python 3 (ipykernel)",
   "language": "python",
   "name": "python3"
  },
  "language_info": {
   "codemirror_mode": {
    "name": "ipython",
    "version": 3
   },
   "file_extension": ".py",
   "mimetype": "text/x-python",
   "name": "python",
   "nbconvert_exporter": "python",
   "pygments_lexer": "ipython3",
   "version": "3.9.6"
  }
 },
 "nbformat": 4,
 "nbformat_minor": 4
}
